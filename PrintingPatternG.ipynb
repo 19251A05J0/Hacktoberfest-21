{
 "cells": [
  {
   "cell_type": "code",
   "execution_count": 7,
   "id": "019eaade",
   "metadata": {},
   "outputs": [
    {
     "name": "stdout",
     "output_type": "stream",
     "text": [
      "  ***  \n",
      " *     \n",
      " *     \n",
      " * *** \n",
      " *   * \n",
      " *   * \n",
      "  ***  \n",
      "\n"
     ]
    }
   ],
   "source": [
    "# Python program to print pattern G\n",
    "def Pattern(line):\n",
    "    pat=\"\"\n",
    "    for i in range(0,line):   \n",
    "        for j in range(0,line):    \n",
    "            if ((j == 1 and i != 0 and i != line-1) or ((i == 0 or\n",
    "                i == line-1) and j > 1 and j < line-2) or (i == ((line-1)/2)\n",
    "                and j > line-5 and j < line-1) or (j == line-2 and\n",
    "                i != 0 and i != line-1 and i >=((line-1)/2))): \n",
    "                pat=pat+\"*\"  \n",
    "            else:     \n",
    "                pat=pat+\" \"  \n",
    "        pat=pat+\"\\n\"  \n",
    "    return pat\n",
    "  \n",
    "# Driver Code\n",
    "line = 7\n",
    "print(Pattern(line))"
   ]
  }
 ],
 "metadata": {
  "kernelspec": {
   "display_name": "Python 3",
   "language": "python",
   "name": "python3"
  },
  "language_info": {
   "codemirror_mode": {
    "name": "ipython",
    "version": 3
   },
   "file_extension": ".py",
   "mimetype": "text/x-python",
   "name": "python",
   "nbconvert_exporter": "python",
   "pygments_lexer": "ipython3",
   "version": "3.7.11"
  }
 },
 "nbformat": 4,
 "nbformat_minor": 5
}
