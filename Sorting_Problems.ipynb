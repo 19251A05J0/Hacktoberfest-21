{
 "cells": [
  {
   "cell_type": "markdown",
   "metadata": {},
   "source": [
    "# Bubble Sort Algorithm"
   ]
  },
  {
   "cell_type": "code",
   "execution_count": 1,
   "metadata": {},
   "outputs": [
    {
     "name": "stdout",
     "output_type": "stream",
     "text": [
      "[9, 49, 53, 59, 62, 66, 89]\n"
     ]
    }
   ],
   "source": [
    "# take a look in the book by CLRS\n",
    "def bubblesort(lst):\n",
    "    for passesLeft in range(len(lst)-1, 0, -1):\n",
    "        for index in range(passesLeft):\n",
    "            if lst[index] > lst[index + 1]:\n",
    "                lst[index], lst[index + 1] = lst[index + 1], lst[index]\n",
    "    return lst\n",
    "\n",
    "l = [66, 89, 49, 62, 9, 53, 59]\n",
    "print(bubblesort(l))"
   ]
  },
  {
   "cell_type": "markdown",
   "metadata": {},
   "source": [
    "### Explanation\n",
    "The bubble sort does exactly what you'd expect it to do. It sorts an input list by treating each element as a bubble that climbs up the list. Each bubble rises as long as it is greater than the list elements. If a list element is smaller or equal to a list element, the bubble stops to rise and the list element starts to bubble up.\n",
    "\n",
    "The precise algorithm works as follows. The outer index variable border marks the index after which the right-hand list elements are already sorted.\n",
    "The inner index variable i goes from left to right until it reaches the index variable border. On its way to the right, it switches two subsequent list elements if the first element is larger than the second element.\n",
    "Hence, after the first pass, the largest element in the list is on the right. As this right-most element is already sorted, we can reduce the size of the list to be sorted by one, i.e., decrement the variable border.\n",
    "Next, the second largest element will rise to the top and the procedure repeats.\n",
    "\n",
    "Study this basic algorithmic pattern carefully. Every computer scientists and every great coder must know it."
   ]
  },
  {
   "cell_type": "code",
   "execution_count": 2,
   "metadata": {},
   "outputs": [
    {
     "name": "stdout",
     "output_type": "stream",
     "text": [
      "True\n"
     ]
    }
   ],
   "source": [
    "s = 'bed and breakfast'\n",
    "r = s.find('bed') == False\n",
    "\n",
    "print(r)"
   ]
  },
  {
   "cell_type": "code",
   "execution_count": 3,
   "metadata": {},
   "outputs": [
    {
     "name": "stdout",
     "output_type": "stream",
     "text": [
      "[1, 2, 3, 4, 5, 6, 7, 8]\n"
     ]
    }
   ],
   "source": [
    "lst = [1, 3, 4, 5, 6, 7, 8]\n",
    "lst.insert(1, 2)\n",
    "\n",
    "print(lst)"
   ]
  },
  {
   "cell_type": "code",
   "execution_count": 4,
   "metadata": {},
   "outputs": [
    {
     "name": "stdout",
     "output_type": "stream",
     "text": [
      "4\n"
     ]
    }
   ],
   "source": [
    "t = [0, 1, 2]\n",
    "t.extend([])\n",
    "t.append([[]])\n",
    "\n",
    "print(len(t)) # answer is 4 because it gives [1, 2, 3, [[]]] as output"
   ]
  },
  {
   "cell_type": "code",
   "execution_count": 5,
   "metadata": {},
   "outputs": [
    {
     "ename": "UnboundLocalError",
     "evalue": "local variable 'a' referenced before assignment",
     "output_type": "error",
     "traceback": [
      "\u001b[1;31m---------------------------------------------------------------------------\u001b[0m",
      "\u001b[1;31mUnboundLocalError\u001b[0m                         Traceback (most recent call last)",
      "\u001b[1;32m<ipython-input-5-8aa9ac181300>\u001b[0m in \u001b[0;36m<module>\u001b[1;34m\u001b[0m\n\u001b[0;32m      3\u001b[0m \u001b[1;33m\u001b[0m\u001b[0m\n\u001b[0;32m      4\u001b[0m \u001b[0ma\u001b[0m\u001b[1;33m,\u001b[0m \u001b[0mb\u001b[0m \u001b[1;33m=\u001b[0m \u001b[1;36m1\u001b[0m\u001b[1;33m,\u001b[0m \u001b[1;36m2\u001b[0m\u001b[1;33m\u001b[0m\u001b[1;33m\u001b[0m\u001b[0m\n\u001b[1;32m----> 5\u001b[1;33m \u001b[0mswap\u001b[0m\u001b[1;33m(\u001b[0m\u001b[1;33m)\u001b[0m\u001b[1;33m\u001b[0m\u001b[1;33m\u001b[0m\u001b[0m\n\u001b[0m\u001b[0;32m      6\u001b[0m \u001b[1;33m\u001b[0m\u001b[0m\n\u001b[0;32m      7\u001b[0m \u001b[0mprint\u001b[0m\u001b[1;33m(\u001b[0m\u001b[0ma\u001b[0m \u001b[1;33m-\u001b[0m \u001b[0mb\u001b[0m\u001b[1;33m)\u001b[0m\u001b[1;33m\u001b[0m\u001b[1;33m\u001b[0m\u001b[0m\n",
      "\u001b[1;32m<ipython-input-5-8aa9ac181300>\u001b[0m in \u001b[0;36mswap\u001b[1;34m()\u001b[0m\n\u001b[0;32m      1\u001b[0m \u001b[1;32mdef\u001b[0m \u001b[0mswap\u001b[0m\u001b[1;33m(\u001b[0m\u001b[1;33m)\u001b[0m\u001b[1;33m:\u001b[0m\u001b[1;33m\u001b[0m\u001b[1;33m\u001b[0m\u001b[0m\n\u001b[1;32m----> 2\u001b[1;33m     \u001b[0mb\u001b[0m\u001b[1;33m,\u001b[0m \u001b[0ma\u001b[0m \u001b[1;33m=\u001b[0m \u001b[0ma\u001b[0m\u001b[1;33m,\u001b[0m\u001b[0mb\u001b[0m\u001b[1;33m\u001b[0m\u001b[1;33m\u001b[0m\u001b[0m\n\u001b[0m\u001b[0;32m      3\u001b[0m \u001b[1;33m\u001b[0m\u001b[0m\n\u001b[0;32m      4\u001b[0m \u001b[0ma\u001b[0m\u001b[1;33m,\u001b[0m \u001b[0mb\u001b[0m \u001b[1;33m=\u001b[0m \u001b[1;36m1\u001b[0m\u001b[1;33m,\u001b[0m \u001b[1;36m2\u001b[0m\u001b[1;33m\u001b[0m\u001b[1;33m\u001b[0m\u001b[0m\n\u001b[0;32m      5\u001b[0m \u001b[0mswap\u001b[0m\u001b[1;33m(\u001b[0m\u001b[1;33m)\u001b[0m\u001b[1;33m\u001b[0m\u001b[1;33m\u001b[0m\u001b[0m\n",
      "\u001b[1;31mUnboundLocalError\u001b[0m: local variable 'a' referenced before assignment"
     ]
    }
   ],
   "source": [
    "def swap():\n",
    "    b, a = a,b\n",
    "\n",
    "a, b = 1, 2\n",
    "swap()\n",
    "\n",
    "print(a - b)"
   ]
  },
  {
   "cell_type": "code",
   "execution_count": 6,
   "metadata": {},
   "outputs": [
    {
     "name": "stdout",
     "output_type": "stream",
     "text": [
      "1\n"
     ]
    }
   ],
   "source": [
    "# Bug fixed in above problem can be in 2 ways, First way is as follows:- \n",
    "def swap():\n",
    "    global a, b\n",
    "    b, a = a,b\n",
    "\n",
    "a, b = 1, 2\n",
    "swap()\n",
    "\n",
    "print(a - b)"
   ]
  },
  {
   "cell_type": "code",
   "execution_count": 7,
   "metadata": {},
   "outputs": [
    {
     "name": "stdout",
     "output_type": "stream",
     "text": [
      "8\n"
     ]
    }
   ],
   "source": [
    "def op(arg1, arg2):\n",
    "    return arg1 + arg2\n",
    "\n",
    "args = []\n",
    "args.append(3)\n",
    "args.append(5)\n",
    "print(op(*args))"
   ]
  },
  {
   "cell_type": "markdown",
   "metadata": {},
   "source": [
    "### Explanation\n",
    "The unpacking operator `*` literally \"unpacks\" the elements from the list into the arguments of the function `op`. Basically, it removes the list brackets `'[' and ']'` so that the result replaces the two positional arguments of the function. Hence, the addition leads to the numerical sum rather than the list concatenation operation."
   ]
  },
  {
   "cell_type": "code",
   "execution_count": 8,
   "metadata": {},
   "outputs": [
    {
     "name": "stdout",
     "output_type": "stream",
     "text": [
      "[]\n"
     ]
    }
   ],
   "source": [
    "lst = [\"Alice\", 'Bob', \"Paul\"]\n",
    "lst_2 = lst\n",
    "lst_2.clear()\n",
    "print(lst)"
   ]
  },
  {
   "cell_type": "code",
   "execution_count": 9,
   "metadata": {},
   "outputs": [
    {
     "name": "stdout",
     "output_type": "stream",
     "text": [
      "[1, 2, 3, 4]\n"
     ]
    }
   ],
   "source": [
    "a = [[1, 2], [3, 4]]\n",
    "print(sum(a, []))"
   ]
  },
  {
   "cell_type": "markdown",
   "metadata": {},
   "source": [
    "### Explanation\n",
    "The most common usage for the built-in function sum() is summing up a list of integers.\n",
    "Yet this function can do more! The first argument has to be an iterable (list, tuple,...). The second argument is optional and defines a start value. By default this start value is 0.\n",
    "In the puzzle we use sum to concatenate lists from a list of lists. The start value is the empty list.\n",
    "The start value is mandatory in this case."
   ]
  },
  {
   "cell_type": "code",
   "execution_count": 10,
   "metadata": {},
   "outputs": [
    {
     "name": "stdout",
     "output_type": "stream",
     "text": [
      "ski\n"
     ]
    }
   ],
   "source": [
    "speeds = [\n",
    "    ('car', 180.0),\n",
    "    ('bike', 20.5),\n",
    "    ('boat', 55.3),\n",
    "    ('ski', 31.8)\n",
    "]\n",
    "\n",
    "fastest = max(speeds)\n",
    "\n",
    "print(fastest[0])"
   ]
  },
  {
   "cell_type": "markdown",
   "metadata": {},
   "source": [
    "### Explanation\n",
    "If we wanted to find the fastest vehicle with this code we would certainly fail, this is not what it does. Since we have a list of tuples, the max() function computes the max item only with the first entries of the tuples according to `Alphabetical Orders`. From the given strings in the tuples 'ski' is the last word in the alphabet therefore max() returns 'ski'. If you want to find the max() from the second entries of the tuples, do it like this: max(speeds, key=lambda x: x[1])."
   ]
  },
  {
   "cell_type": "code",
   "execution_count": 11,
   "metadata": {},
   "outputs": [
    {
     "name": "stdout",
     "output_type": "stream",
     "text": [
      "3\n",
      "5\n",
      "7\n"
     ]
    }
   ],
   "source": [
    "for num in range(2, 8):\n",
    "    if num % 2 == 0:\n",
    "        continue \n",
    "    print(num)"
   ]
  },
  {
   "cell_type": "code",
   "execution_count": 12,
   "metadata": {},
   "outputs": [
    {
     "name": "stdout",
     "output_type": "stream",
     "text": [
      "a\n",
      "b\n",
      "c\n"
     ]
    }
   ],
   "source": [
    "print('''\\\n",
    "a\n",
    "b\n",
    "c''')"
   ]
  },
  {
   "cell_type": "markdown",
   "metadata": {},
   "source": [
    "### Explanation\n",
    "String literals can span multiple lines. One way is using triple-quotes: `\"\"\"...\"\"\"` or `'''...'''`. End of lines are automatically included in the string, but it’s possible to prevent this by adding a `\\` at the end of the line."
   ]
  },
  {
   "cell_type": "code",
   "execution_count": 13,
   "metadata": {},
   "outputs": [
    {
     "name": "stdout",
     "output_type": "stream",
     "text": [
      "2\n"
     ]
    }
   ],
   "source": [
    "words = ['ape', 'banana', 'cat', 'bird']\n",
    "b_words = [w for w in words if w.startswith('b')]\n",
    "print(len(b_words))"
   ]
  },
  {
   "cell_type": "markdown",
   "metadata": {},
   "source": [
    "### Explanation\n",
    "The list comprehension iterates over the given list of words and puts all words that start with a 'b' in a new list. Since there are two words that start with a 'b' the length of the new list is 2."
   ]
  },
  {
   "cell_type": "code",
   "execution_count": 14,
   "metadata": {},
   "outputs": [
    {
     "name": "stdout",
     "output_type": "stream",
     "text": [
      "mouse\n"
     ]
    }
   ],
   "source": [
    "words = ['cat', 'mouse', 'dog']\n",
    "for w in words[:]:\n",
    "    if len(w) > 3:\n",
    "        words.insert(0, w)\n",
    "print(words[0])"
   ]
  },
  {
   "cell_type": "markdown",
   "metadata": {},
   "source": [
    "### Explanation\n",
    "How to modify a sequence while iterating over it? For example, you want to prepare a data set of house prices for a machine learning algorithm to predict the market prices of new houses. Your goal is to remove the data points with prices lower than $20,000 to clean the data from outliers.\n",
    "\n",
    "This problem is not as simple as removing elements from a sequence over which you iterate. Doing this can lead to unspecified behavior as explained in the following. Before entering the for loop, the Python interpreter creates an iterator object. The iterator object provides a method next() returning the next element in the sequence. To achieve this, the iterator extracts, on creation time, information like the size of the sequence. If you modify the sequence \"on the go\", this information becomes invalid.\n",
    "For example, if the number of elements changes at runtime, the iterator object may believe it is ready, while there are still objects in it.\n",
    "\n",
    "The puzzle presents one solution to this problem. The code copies the list first and iterates over the copy. With this method, we can safely modify the original list as this will not affect the copy in any way. The slice notation is a very convenient way to copy sequences."
   ]
  },
  {
   "cell_type": "code",
   "execution_count": 15,
   "metadata": {},
   "outputs": [
    {
     "name": "stdout",
     "output_type": "stream",
     "text": [
      "False\n"
     ]
    }
   ],
   "source": [
    "xs = [[1, 2], [3, 4]]\n",
    "ys = list(xs)\n",
    "\n",
    "print(xs is ys)"
   ]
  },
  {
   "cell_type": "markdown",
   "metadata": {},
   "source": [
    "### Explanation\n",
    "In the puzzle we use the list constructor to create a new list instance.\n",
    "Since we pass the list xs to the constructor, the resulting new list contains the same elements. List ys is a new instance of list, so xs is not ys!"
   ]
  },
  {
   "cell_type": "code",
   "execution_count": 16,
   "metadata": {},
   "outputs": [
    {
     "name": "stdout",
     "output_type": "stream",
     "text": [
      "hello Python world!"
     ]
    }
   ],
   "source": [
    "# print() with parameters see the parameters....! \n",
    "a = 'hello'\n",
    "b = 'world'\n",
    "print(a, b, sep = ' Python ',  end ='!')"
   ]
  },
  {
   "cell_type": "code",
   "execution_count": 17,
   "metadata": {},
   "outputs": [
    {
     "name": "stdout",
     "output_type": "stream",
     "text": [
      "3\n"
     ]
    }
   ],
   "source": [
    "def add(a = 0, b = 1):\n",
    "    return a + b\n",
    "print(add(add(add())))"
   ]
  },
  {
   "cell_type": "markdown",
   "metadata": {},
   "source": [
    "### Explanation\n",
    "In Python you can specify a default value for function parameters. If there is no value passed to the parameter in the function call, the parameter will contain its default value. In the puzzle the function add() uses default values for a and b.\n",
    "If you don't pass a value for a and b, a will be set to 0 and b to 1. If you only pass one value to add() in the function call, this value will be passed in a and b will have its default value 1. Therefore the first call of add() returns 1. This is passed to add() again and therefore incremented by 1 and then again by 1. Therefore this is what happens, step by step:\n",
    "add(add(add()))\n",
    "= add(add(1))\n",
    "= add(2)\n",
    "= 3."
   ]
  }
 ],
 "metadata": {
  "kernelspec": {
   "display_name": "Python 3",
   "language": "python",
   "name": "python3"
  },
  "language_info": {
   "codemirror_mode": {
    "name": "ipython",
    "version": 3
   },
   "file_extension": ".py",
   "mimetype": "text/x-python",
   "name": "python",
   "nbconvert_exporter": "python",
   "pygments_lexer": "ipython3",
   "version": "3.7.7"
  }
 },
 "nbformat": 4,
 "nbformat_minor": 4
}
